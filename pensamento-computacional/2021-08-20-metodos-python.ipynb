{
  "nbformat": 4,
  "nbformat_minor": 0,
  "metadata": {
    "colab": {
      "name": "2021-08-20 - Pensamento computacional.ipynb",
      "provenance": []
    },
    "kernelspec": {
      "name": "python3",
      "display_name": "Python 3"
    },
    "language_info": {
      "name": "python"
    }
  },
  "cells": [
    {
      "cell_type": "code",
      "metadata": {
        "colab": {
          "base_uri": "https://localhost:8080/"
        },
        "id": "qizsAArmBgvr",
        "outputId": "fde0d215-262c-4e38-aa64-e09c62e4e166"
      },
      "source": [
        "nome = input(\"Qual seu nome? \")\n",
        "nome_2 = nome.capitalize() #FUNÇÃO PARA DEIXAR A PRIMEIRA LETRA MAIÚSCULA\n",
        "print(f\"Olá, {nome_2}! Como vai?\")"
      ],
      "execution_count": 5,
      "outputs": [
        {
          "output_type": "stream",
          "text": [
            "Qual seu nome? ALESSANDRO\n",
            "Olá, Alessandro! Como vai?\n"
          ],
          "name": "stdout"
        }
      ]
    },
    {
      "cell_type": "code",
      "metadata": {
        "colab": {
          "base_uri": "https://localhost:8080/"
        },
        "id": "i1ZLkj7SD0OY",
        "outputId": "c33b4e11-456e-4132-f356-f1b4fd9db86e"
      },
      "source": [
        "nome = input(\"Qual seu nome? \")\n",
        "nome = nome.capitalize()\n",
        "print(f\"Olá, {nome}! Como vai?\")"
      ],
      "execution_count": 6,
      "outputs": [
        {
          "output_type": "stream",
          "text": [
            "Qual seu nome? alessandro\n",
            "Olá, Alessandro! Como vai?\n"
          ],
          "name": "stdout"
        }
      ]
    },
    {
      "cell_type": "code",
      "metadata": {
        "colab": {
          "base_uri": "https://localhost:8080/"
        },
        "id": "0bzFZuY_D3Eo",
        "outputId": "a3b9740a-5f50-4119-e70f-8f61ad26e678"
      },
      "source": [
        "nome = input(\"Qual seu nome? \").capitalize()\n",
        "print(f\"Olá, {nome}! Como vai?\")"
      ],
      "execution_count": 7,
      "outputs": [
        {
          "output_type": "stream",
          "text": [
            "Qual seu nome? ALESSANDRO\n",
            "Olá, Alessandro! Como vai?\n"
          ],
          "name": "stdout"
        }
      ]
    },
    {
      "cell_type": "code",
      "metadata": {
        "colab": {
          "base_uri": "https://localhost:8080/"
        },
        "id": "wuENoPGUD8Yh",
        "outputId": "85d014c6-f4c9-485a-9067-34cae9b7ff91"
      },
      "source": [
        "nome = input(\"Qual seu nome? \").title() #PRIMEIRA LETRA DE CADA PALAVRA NUMA FRASE\n",
        "print(f\"Olá, {nome}! Como vai?\")"
      ],
      "execution_count": 8,
      "outputs": [
        {
          "output_type": "stream",
          "text": [
            "Qual seu nome? ALESSANDRO JUNIOR\n",
            "Olá, Alessandro Junior! Como vai?\n"
          ],
          "name": "stdout"
        }
      ]
    },
    {
      "cell_type": "code",
      "metadata": {
        "colab": {
          "base_uri": "https://localhost:8080/"
        },
        "id": "YvJB1k0aEg18",
        "outputId": "e1b94963-cb85-42f1-bd26-e384cce0282b"
      },
      "source": [
        "nome = input(\"Qual seu nome? \").strip() #TIRA ESPAÇO EM BRANCO DO COMEÇO E DO FINAL DA STR\n",
        "print(f\"Olá, {nome}! Como vai?\")"
      ],
      "execution_count": 9,
      "outputs": [
        {
          "output_type": "stream",
          "text": [
            "Qual seu nome? Alessandro \n",
            "Olá, Alessandro! Como vai?\n"
          ],
          "name": "stdout"
        }
      ]
    },
    {
      "cell_type": "code",
      "metadata": {
        "colab": {
          "base_uri": "https://localhost:8080/"
        },
        "id": "pDt5Nv0oFw0e",
        "outputId": "a251d345-8df3-48c8-e66d-5433b38649c4"
      },
      "source": [
        "nome = input(\"Qual seu nome? \").strip().title() #É POSSÍVEL JUNTAR MÉTODOS\n",
        "print(f\"Olá, {nome}! Como vai?\")"
      ],
      "execution_count": 10,
      "outputs": [
        {
          "output_type": "stream",
          "text": [
            "Qual seu nome?   ALESSANDRO junior\n",
            "Olá, Alessandro Junior! Como vai?\n"
          ],
          "name": "stdout"
        }
      ]
    },
    {
      "cell_type": "code",
      "metadata": {
        "colab": {
          "base_uri": "https://localhost:8080/"
        },
        "id": "FJvONnwOHMQm",
        "outputId": "86c0795c-d904-43c4-fc96-22aaf38de6c8"
      },
      "source": [
        "resposta = input(\"Digite sua resposta: \")\n",
        "if resposta.lower().startswith(\"b\"):\n",
        "  print(\"acertou\")\n",
        "print(resposta)"
      ],
      "execution_count": 12,
      "outputs": [
        {
          "output_type": "stream",
          "text": [
            "Digite sua resposta: B. Jansen\n",
            "acertou\n",
            "B. Jansen\n"
          ],
          "name": "stdout"
        }
      ]
    },
    {
      "cell_type": "code",
      "metadata": {
        "colab": {
          "base_uri": "https://localhost:8080/"
        },
        "id": "i-7CLh3uIMCk",
        "outputId": "b51d1783-78d1-46ac-9e20-4b0a7113bb91"
      },
      "source": [
        "resposta = input(\"Digite sua resposta: \").lower()\n",
        "if resposta.startswith(\"b\"):\n",
        "  print(\"acertou\")\n",
        "print(resposta)"
      ],
      "execution_count": 13,
      "outputs": [
        {
          "output_type": "stream",
          "text": [
            "Digite sua resposta: B. Jansen\n",
            "acertou\n",
            "b. jansen\n"
          ],
          "name": "stdout"
        }
      ]
    },
    {
      "cell_type": "code",
      "metadata": {
        "colab": {
          "base_uri": "https://localhost:8080/"
        },
        "id": "dnnnhtGXIR8i",
        "outputId": "44f13394-34ad-49e2-bd74-1b7e05aa0c19"
      },
      "source": [
        "nome = input(\"Qual seu nome completo? \").title()\n",
        "if \"Silva\" in nome: #Verifica se \"Silva\" está contido no valor da variável nome\n",
        "  print(f\"Oi, {nome}! Também sou Silva!\")\n",
        "else:\n",
        "  print(f\"Oi, {nome}\")"
      ],
      "execution_count": 18,
      "outputs": [
        {
          "output_type": "stream",
          "text": [
            "Qual seu nome completo? Alessandro Feitosa\n",
            "Oi, Alessandro Feitosa\n"
          ],
          "name": "stdout"
        }
      ]
    },
    {
      "cell_type": "code",
      "metadata": {
        "colab": {
          "base_uri": "https://localhost:8080/"
        },
        "id": "JaeFe7weI4Ez",
        "outputId": "5f62e8a1-16c3-4de7-9cc5-436afc328e99"
      },
      "source": [
        "nome = input(\"Qual seu nome completo? \").title()\n",
        "if \"Silva\" not in nome: #Verifica se \"Silva\" não está contido no valor da variável nome\n",
        "  print(f\"Oi, {nome}! Pensei que você fosse da família Silva!\")\n",
        "else:\n",
        "  print(f\"Oi, {nome}! Também sou Silva!\")"
      ],
      "execution_count": 16,
      "outputs": [
        {
          "output_type": "stream",
          "text": [
            "Qual seu nome completo? Alessandro Feitosa\n",
            "Oi, Alessandro Feitosa! Pensei que você fosse da família Silva!\n"
          ],
          "name": "stdout"
        }
      ]
    },
    {
      "cell_type": "code",
      "metadata": {
        "id": "g-l67xjjJhIr"
      },
      "source": [
        ""
      ],
      "execution_count": null,
      "outputs": []
    },
    {
      "cell_type": "code",
      "metadata": {
        "colab": {
          "base_uri": "https://localhost:8080/"
        },
        "id": "VC3RWC1JJC4O",
        "outputId": "61e3211b-067d-426a-c6d7-5d68be460744"
      },
      "source": [
        "arquivo = open(\"GMT20210806-222707_Recording.txt\")\n",
        "for linha in arquivo:\n",
        "  print(linha.strip()) #STRIP para tirar as quebras de linha"
      ],
      "execution_count": 21,
      "outputs": [
        {
          "output_type": "stream",
          "text": [
            "00:01:36\tJamile Santana:\tBoa noite!\n",
            "00:05:23\tTalita Burbulhan:\toi pessoal! boa noite :D\n",
            "00:05:39\tVinícius Marques:\tBoa noite, pessoal!!\n",
            "00:06:14\tRenan Cavalcante:\tBoa!\n",
            "00:06:51\tAlessandro Feitosa Jr:\tUma dica para o Slack para achar todos os canais: passar o mouse por cima do menu \"Canais\" e depois cliquem em \"Explorar canais\", ali vão aparecer todos\n",
            "00:08:29\tNatalia:\tDentro do canal, é só ir em “settings” (configurações) e trocar para canal privado\n",
            "00:11:24\tLuiza Ferraz:\ttá falhando só pra mim?\n",
            "00:11:25\tNatalia:\tEm alguns momentos corta o som pra mim, é só pra mim?\n",
            "00:11:34\tKaluan Bernardo:\tAqui ta bom!\n",
            "00:11:45\tRenan Cavalcante:\tAqui deu uma cortada também. Umas duas vezes.\n",
            "00:11:52\tCarina Dourado:\tPra mim falhou rapidinho e voltou\n",
            "00:11:54\tKelly Pavan:\tAqui travou um pouquinho, também. Mas já está normal\n",
            "00:11:55\tlayane.serrano:\tAqui cortou tb. Duas vezes.\n",
            "00:12:02\tlayane.serrano:\tnormal tb\n",
            "00:12:10\tLuiza Ferraz:\tpra mim ta cortando em momentos aleatórios\n",
            "00:12:31\tgabriela caesar:\tmassa\n",
            "00:12:40\tNatalia:\tAgora tá fluindo normal\n",
            "00:19:48\tÉrika Yukari:\ttb gostaria Laiane!\n",
            "00:20:17\tlayane.serrano:\ttô sofrendo com o meu note, rs.\n",
            "00:22:51\tÉrika Yukari:\teu vou trocar também, se puder compartilhar as dicas agradeço!\n",
            "00:24:24\tLarissa Sayuri:\tÉ uma ótima definição, @Kaluan\n",
            "00:28:14\tJamile Santana:\tA Alexa aqui de casa já sabe a hora de colocar música pro bebê dormir hahaha\n",
            "00:38:39\tgabriela caesar:\thttps://www.abraji.org.br/\n",
            "00:38:52\tgabriela caesar:\thttps://escoladedados.org/\n",
            "00:39:40\tgabriela caesar:\t7 x 1 para o R\n",
            "00:41:48\tAmanda Audi:\tPessoal, tô no aeroporto de Viracopos e a internet não tá dando conta. Não consigo ouvir vocês direito\n",
            "00:42:26\tÉrika Yukari:\tok, aviso aqui quando chegar seu nome e vc ve se rola\n",
            "00:42:46\tÉrika Yukari:\tacho que vai ser a prox\n",
            "00:42:56\tAmanda Audi:\tOpa, valeu!\n",
            "00:43:10\tÉrika Yukari:\tvai la\n",
            "00:43:14\tÉrika Yukari:\trola?\n",
            "00:47:58\tTalita Burbulhan:\testá travando pra mim, pra vcs está ok?\n",
            "00:48:07\tTiago:\tPra mim tá ok\n",
            "00:48:10\tKaluan Bernardo:\taqui ta 100% msm\n",
            "00:48:12\tLuiza Ferraz:\tpra mim ta relativamente ok, nada demais\n",
            "00:48:23\tVinícius Marques:\tAqui está travando também\n",
            "00:48:27\tÉrika Yukari:\ttb\n",
            "00:48:28\tgabriela caesar:\taqui tb\n",
            "00:48:29\tIngridy Silva:\to som á travando\n",
            "00:48:34\tJamile Santana:\tAqui também\n",
            "00:49:08\tNatalia:\tContinua travando, pessoal?\n",
            "00:49:19\tKelly Pavan:\tAqui não, Natália.\n",
            "00:49:23\tIngridy Silva:\tvoltou normal\n",
            "00:49:32\tVinícius Marques:\tVoltou ao normal\n",
            "00:49:35\tNatalia:\tPor aqui to ouvindo normal também\n",
            "00:49:36\tTalita Burbulhan:\tagora parou de travar :)\n",
            "00:49:51\tÉrika Yukari:\taqui só rolou 2x\n",
            "00:49:58\tÉrika Yukari:\tum certo atraso\n",
            "00:50:01\tÉrika Yukari:\tcoisa de microsegundo\n",
            "00:54:05\tNatalia:\thttps://penseallen.github.io/PensePython2e/\n",
            "00:54:35\tLuiza Ferraz:\ttá dando 404, mas se abrir a versão da pagina salva da pra abrir ele\n",
            "00:57:02\tKaluan Bernardo:\tAlvaro, cortou geral\n",
            "00:57:11\tBianca Muniz:\tÁlvaro, ficou mudo seu microfone\n",
            "00:57:12\tIngridy Silva:\tÁlvaro, seu som não está saindo.\n",
            "00:57:15\tKaren Couto:\tAlvaro vc está mudo\n",
            "00:57:21\tTode:\tPode ser a placa de som dele\n",
            "00:57:26\tKelly Pavan:\tÁlvaro, se houver programas que precisemos baixar, por exemplo, vamos ser informados com antecedência? Please!\n",
            "00:58:00\tHost Insper:\tvou reiniciar, só1 min\n",
            "01:03:59\tgabriela caesar:\t@Lara, provavelmente o GitHub vai ser legal em 2022.1 tb, quando formos aprender HTML e CSS, para subir o nosso portfólio/site pessoal de forma gratuita\n",
            "01:04:47\tNatalia:\tVamos apresentar o GitHub e falar sobre métodos de documentação na minha disciplina com a Carla também, cenas dos próximos capítulos :)\n",
            "01:05:31\tReinaldo Chaves:\tEla que fez: https://www.gabrielacaesar.com/\n",
            "01:05:32\tgabriela caesar:\tVerdade, excelente tb!\n",
            "01:06:39\tgabriela caesar:\t@Reinaldo, usei template pronto, nada de HTML e CSS feito por mim hehe Mas isso ta nos planos\n",
            "01:09:40\tNatalia:\tE estamos planejando uns workshops com o Cuducos sobre isso, pra ajudar vocês nos projetos finais, Gabi\n",
            "01:09:53\tNatalia:\tMas também mais pra frente\n",
            "01:10:02\tgabriela caesar:\tobrigada, tenho muito interesse\n",
            "01:10:29\tÉrika Yukari:\tmuito massa, Gabriela!\n",
            "01:10:43\tÉrika Yukari:\tvaleu por compartilhar, Reinaldo\n",
            "01:16:23\tKaren Couto:\tdaqui a pouco começa a discussão PS4 x XBox\n",
            "01:16:30\tKelly Pavan:\thahahaha\n",
            "01:16:58\tKaren Couto:\tPS4, evidente, né\n",
            "01:17:30\tTode:\t#TeamXbox :P\n",
            "01:23:23\tReinaldo Chaves:\tÉ derivada do Monty Python também :)\n",
            "01:24:48\tKaluan Bernardo:\tÉ verdade a história de que o Youtube foi criado em python?\n",
            "01:25:05\tKaren Couto:\t@Reinaldo Chaves jogando pesado... mas acho que boa parte da turma não vai pegar a referência\n",
            "01:26:03\tKelly Pavan:\tPython é filosófico, ó!\n",
            "01:27:21\tgabriela caesar:\tEditor - por exemplo, Sublime; IDE - por exemplo, RStudio\n",
            "01:30:40\tNatalia:\tGabi vai dar um duplo x x (R e alemão) rs\n",
            "01:34:05\tLara Deus:\to guido van rossum tem twitter haha https://twitter.com/gvanrossum\n",
            "01:34:16\tÉrika Yukari:\tkkk\n",
            "01:40:04\tgabriela caesar:\t21h17 volta\n",
            "01:51:07\tReinaldo Chaves:\tGabi comendo feijoada!\n",
            "02:09:55\tBernardo Vianna:\tIsso, fiquei observando de fora heheh\n",
            "02:13:12\tgabriela caesar:\t@Tiago, como é o nome dessa ferramenta?\n",
            "02:13:15\tTode:\tÉ fantástico. Eu também queria muito isso, xará.\n",
            "02:13:26\tTode:\tNuzzel\n",
            "02:13:32\tAlessandro Feitosa Jr:\tFeedly quebra um galho\n",
            "02:13:32\tÉrika Yukari:\thttps://twitter.com/nuzzel?lang=en\n",
            "02:13:50\tLara Deus:\to feed.ly é bem bom\n",
            "02:13:57\tKaluan Bernardo:\trecomendo muito o feedly e inoreader\n",
            "02:14:08\tÉrika Yukari:\thttps://feedly.com/i/welcome\n",
            "02:14:29\tTiago:\tO Feedly eu lembro que baixei há uns anos e fiquei insatisfeito com o tanto de site que ele nao pegava\n",
            "02:15:19\tÉrika Yukari:\tgoogle reader morreu ne\n",
            "02:15:39\tAlessandro Feitosa Jr:\tmorreu\n",
            "02:15:47\tÉrika Yukari:\tnao\n",
            "02:15:49\tÉrika Yukari:\thaha\n",
            "02:15:52\tgabriela caesar:\tnormal\n",
            "02:15:53\tKaluan Bernardo:\to feedly melhorou bastante, ti!\n",
            "02:17:07\tKaluan Bernardo:\tO 7c0 faz isso\n",
            "02:17:20\tCarina Dourado:\tCobrar assessoria é o melhor\n",
            "02:17:45\tReinaldo Chaves:\thttps://projeto7c0.com.br/\n",
            "02:20:14\tgabriela caesar:\thttps://g1.globo.com/politica/eleicoes/2020/noticia/2020/11/12/em-iniciativa-inedita-g1-publica-textos-com-resultado-da-eleicao-em-cada-uma-das-5568-cidades-do-brasil-com-auxilio-de-inteligencia-artificial.ghtml\n",
            "02:21:28\tLara Deus:\teu amo ele\n",
            "02:21:31\tLara Deus:\tsalva minha vida\n",
            "02:21:44\tLara Deus:\ttranscreve direitinho, com pontuação e tudo\n",
            "02:21:49\tLara Deus:\tdá medooo até\n",
            "02:21:56\tTiago:\tSeria bom algum app que já gravasse e transcrevesse ligação, sem vc precisar baixar o mp3\n",
            "02:22:06\tLuiza Ferraz:\tnossa total\n",
            "02:22:06\tAlessandro Feitosa Jr:\teu quero aprender a fazer isso heheh\n",
            "02:22:08\tgabriela caesar:\thttps://t.me/transcriber_bot\n",
            "02:22:11\tAlessandro Feitosa Jr:\tpra fazer localmente\n",
            "02:22:12\tgabriela caesar:\t(ta no slack tb)\n",
            "02:22:34\tKaluan Bernardo:\tTem o Google pinpoint do google pra transcrição tb\n",
            "02:22:40\tReinaldo Chaves:\t@Transcriber_Bot\n",
            "02:22:48\tAlessandro Feitosa Jr:\to Office 365 tbm tem uma função similar\n",
            "02:23:06\tReinaldo Chaves:\thttps://journaliststudio.google.com/pinpoint/about\n",
            "02:23:11\tgabriela caesar:\t@Reinaldo, esse aí é meu melhor amigo no trabalho\n",
            "02:23:27\tisabelafleischmann:\tO próprio Google Docs tem também o Voice tools, mas o Transcriber bot do Telegram funciona melhor\n",
            "02:24:04\tTiago:\tVcs sabem o quanto o bot do telegrama garante privacidade na transcrição? Isso é uma coisa que me deixa receoso com esses apps\n",
            "02:24:10\tTiago:\ttelegram**\n",
            "02:24:20\tCarina Dourado:\té…. O do Google depende bastante da velocidade e dicção da pessoa. Tem hora que saiu tudo errado\n",
            "02:24:35\tLuiza Ferraz:\tja tentei colocar um audio pra tocar e o do google não reconheceu\n",
            "02:24:38\tLuiza Ferraz:\tnadinha\n",
            "02:24:42\tBianca Muniz:\tatualizam diariamente\n",
            "02:24:43\tgabriela caesar:\tHonestamente, não sei, mas é código aberto, então se tivesse alguma sacanagem alguém - tipo Turicas - iria perceber\n",
            "02:25:39\tTiago:\tEu penso mais nos termos de uso que a gente assina sem ler pra usar o telegram\n",
            "02:25:48\tTiago:\tNao quero vazajato das minhas fonte rs\n",
            "02:25:55\tCarina Dourado:\tahahaha\n",
            "02:27:55\tgabriela caesar:\tSSP https://www.gabrielacaesar.com/2020/09/08/captura-de-dados-ssp-sp/\n",
            "02:28:11\tReinaldo Chaves:\tVazaJato foi por causa da falta de autentificação dupla e porque os caras receberam ligação suspeita e aceitaram, não por falha do Telegram\n",
            "02:28:40\tJamile Santana:\tNossa Gabi, eu te amo hahahah Agora só falta eu aprender a rodar isso\n",
            "02:28:41\tNatalia:\tTenho esses dados, dps posso passae\n",
            "02:28:45\tNatalia:\tpassar*\n",
            "02:32:12\tÉrika Yukari:\tisso eh mto chatooooooooo\n",
            "02:32:24\tAlessandro Feitosa Jr:\ttem o https://squoosh.app/ é muito bom. se desse pra passar as imagens nesse algoritmo antes de subir a img seria ótimo\n",
            "02:33:18\tLuiza Ferraz:\tesse site é pra comprimir imagem, alessandro?\n",
            "02:33:33\tAlessandro Feitosa Jr:\tisso\n",
            "02:33:49\tLuiza Ferraz:\tnossa que show, sempre tenho q dar um google ou usar o paint\n",
            "02:33:50\tAlessandro Feitosa Jr:\te comprime muito bem, mantendo uma qualidade razoável\n",
            "02:34:07\tLuiza Ferraz:\tsuper obrigada\n",
            "02:34:18\tAlessandro Feitosa Jr:\tdá até pra redimensionar, fazer um crop muito basicao\n",
            "02:34:28\tLuiza Ferraz:\tshow de bola\n",
            "02:34:35\tRenan França:\tgostei, alessandro. valeu\n",
            "02:34:48\tReinaldo Chaves:\thttps://dadosabertos.camara.leg.br/swagger/api.html\n",
            "02:35:15\tReinaldo Chaves:\thttps://legis.senado.leg.br/dadosabertos/docs/ui/index.html\n",
            "02:37:34\tReinaldo Chaves:\thttps://github.com/revistaazmina/elasnocongressobot/blob/master/elasnocongresso.py\n",
            "02:38:42\tReinaldo Chaves:\tElas buscam essas palavras nas proposições\n",
            "search_list = [\"MULHER\", \"MULHERES\", \"TRABALHO DOMÉSTICO\", \"VIOLÊNCIA CONTRA A MULHER\", \"VIOLÊNCIA DOMÉSTICA\", \"VIOLÊNCIA DE GÊNERO\", \"MARIA DA PENHA\", \"ABORTO\", \"ABORTAMENTO\", \"INTERRUPÇÃO DE GRAVIDEZ\", \"INTERRUPÇÃO DE GESTAÇÃO\", \"DIREITO REPRODUTIVO\", \"DIREITOS REPRODUTIVOS\", \"DIREITO À VIDA\", \"CONCEPÇÃO\", \"CONTRACEPÇÃO\", \"CONTRACEPTIVO\", ... e várias outras\n",
            "02:40:30\tÉrika Yukari:\tah, entendi. perfeito. obrigada!\n",
            "02:48:41\tHost Insper:\thttps://colab.research.google.com/\n",
            "02:51:15\tgabriela caesar:\to Colab pode ser legal para pessoas que trabalham presencialmente na empresa e têm limitações para mexer no Terminal tb, por exemplo\n",
            "02:51:54\tReinaldo Chaves:\tTem empresa que nem deixa instalar Python, R\n",
            "02:52:07\tAlessandro Feitosa Jr:\té uma boa manter a extensão .ipynb, né?\n",
            "02:52:45\tReinaldo Chaves:\tÉ a extensão padrão de um notebook no Colab\n",
            "02:52:59\tReinaldo Chaves:\tMas é o código Python normal\n",
            "02:55:49\tAlessandro Feitosa Jr:\tficou sem som\n",
            "02:56:29\tBianca Muniz:\tÁlvaro, a gente não tá escutando\n",
            "02:56:48\tKaren Couto:\tAlvaro não está mais entre nós\n",
            "02:56:52\tÉrika Yukari:\tmotim do x\n",
            "02:58:54\tAlessandro Feitosa Jr:\to X é tipo levantar a mão\n",
            "02:58:56\tAlessandro Feitosa Jr:\ttem que tirar\n",
            "03:04:44\tisabelafleischmann:\tTem algum atalho para o play ou tem que clicar com o mouse mesmo?\n",
            "03:04:52\tAlessandro Feitosa Jr:\tshift + enter\n",
            "03:04:52\tNatalia:\tCtrl entetr\n",
            "03:05:02\tisabelafleischmann:\tObrigada\n",
            "03:05:33\tReinaldo Chaves:\tAcho que só abriga Python o Colab\n",
            "03:05:58\tTiago:\tObrigado, paula\n",
            "03:07:21\tÉrika Yukari:\tnao entendi a utilidade do notebook para texto\n",
            "03:07:48\tÉrika Yukari:\tse o codigo nao vai ler, seria realmente uma anotacao?\n",
            "03:07:58\tgabriela caesar:\tsim\n",
            "03:08:02\tNatalia:\tÉ só para você documentar o processo, Érika\n",
            "03:08:04\tÉrika Yukari:\tah ta\n",
            "03:08:05\tÉrika Yukari:\trs\n",
            "03:08:10\tÉrika Yukari:\tobrigad\n",
            "03:08:10\tAlessandro Feitosa Jr:\tsim, uma anotação dentro do notebook\n",
            "03:08:16\tAlessandro Feitosa Jr:\tanotação pro código vem com #\n",
            "03:08:25\tAlessandro Feitosa Jr:\tpra explicar o que aquela linha faz, por exemplo\n",
            "03:08:30\tAlessandro Feitosa Jr:\tmas o Álvaro vai mostrar isso\n",
            "03:09:15\tNatalia:\tA Érika do futuro vai agradecer a Érika de agora se ela anotar o próprio código :)\n",
            "03:09:40\tÉrika Yukari:\thahahaha, perfeito. ANOTADO\n",
            "03:10:28\tgabriela caesar:\thahahaha\n",
            "03:17:23\tLuiza Ferraz:\ttem uns programas que deixam tudo coloridinho vibes arco iris\n",
            "03:17:26\tLuiza Ferraz:\tmeu toc ama\n",
            "03:17:55\tKaluan Bernardo:\tSe n tiver fundo escuro n é hacker\n",
            "03:18:11\tgabriela caesar:\tmeus olhos agradecem fundo escuro\n",
            "03:18:19\tRenan Cavalcante:\tJá tava procurando como escurecer a página\n",
            "03:18:22\tAlessandro Feitosa Jr:\te ainda dá um ar de hacker\n",
            "03:18:24\tLuiza Ferraz:\tfundo escuro é ruim no inicio mas é um caminho sem volta\n",
            "03:18:40\tBianca Muniz:\tObrigada e boa noite!\n",
            "03:18:41\tTalita Burbulhan:\tboa noite!\n"
          ],
          "name": "stdout"
        }
      ]
    },
    {
      "cell_type": "code",
      "metadata": {
        "colab": {
          "base_uri": "https://localhost:8080/"
        },
        "id": "AfaoKw2BMIl9",
        "outputId": "941a20a3-96cf-4765-c925-6d444d3e97e6"
      },
      "source": [
        "arquivo = open(\"GMT20210806-222707_Recording.txt\")\n",
        "for linha in arquivo:\n",
        "  print(linha.strip().split(\"\\t\")) #Quebrou as strings em várias partes"
      ],
      "execution_count": 22,
      "outputs": [
        {
          "output_type": "stream",
          "text": [
            "['00:01:36', 'Jamile Santana:', 'Boa noite!']\n",
            "['00:05:23', 'Talita Burbulhan:', 'oi pessoal! boa noite :D']\n",
            "['00:05:39', 'Vinícius Marques:', 'Boa noite, pessoal!!']\n",
            "['00:06:14', 'Renan Cavalcante:', 'Boa!']\n",
            "['00:06:51', 'Alessandro Feitosa Jr:', 'Uma dica para o Slack para achar todos os canais: passar o mouse por cima do menu \"Canais\" e depois cliquem em \"Explorar canais\", ali vão aparecer todos']\n",
            "['00:08:29', 'Natalia:', 'Dentro do canal, é só ir em “settings” (configurações) e trocar para canal privado']\n",
            "['00:11:24', 'Luiza Ferraz:', 'tá falhando só pra mim?']\n",
            "['00:11:25', 'Natalia:', 'Em alguns momentos corta o som pra mim, é só pra mim?']\n",
            "['00:11:34', 'Kaluan Bernardo:', 'Aqui ta bom!']\n",
            "['00:11:45', 'Renan Cavalcante:', 'Aqui deu uma cortada também. Umas duas vezes.']\n",
            "['00:11:52', 'Carina Dourado:', 'Pra mim falhou rapidinho e voltou']\n",
            "['00:11:54', 'Kelly Pavan:', 'Aqui travou um pouquinho, também. Mas já está normal']\n",
            "['00:11:55', 'layane.serrano:', 'Aqui cortou tb. Duas vezes.']\n",
            "['00:12:02', 'layane.serrano:', 'normal tb']\n",
            "['00:12:10', 'Luiza Ferraz:', 'pra mim ta cortando em momentos aleatórios']\n",
            "['00:12:31', 'gabriela caesar:', 'massa']\n",
            "['00:12:40', 'Natalia:', 'Agora tá fluindo normal']\n",
            "['00:19:48', 'Érika Yukari:', 'tb gostaria Laiane!']\n",
            "['00:20:17', 'layane.serrano:', 'tô sofrendo com o meu note, rs.']\n",
            "['00:22:51', 'Érika Yukari:', 'eu vou trocar também, se puder compartilhar as dicas agradeço!']\n",
            "['00:24:24', 'Larissa Sayuri:', 'É uma ótima definição, @Kaluan']\n",
            "['00:28:14', 'Jamile Santana:', 'A Alexa aqui de casa já sabe a hora de colocar música pro bebê dormir hahaha']\n",
            "['00:38:39', 'gabriela caesar:', 'https://www.abraji.org.br/']\n",
            "['00:38:52', 'gabriela caesar:', 'https://escoladedados.org/']\n",
            "['00:39:40', 'gabriela caesar:', '7 x 1 para o R']\n",
            "['00:41:48', 'Amanda Audi:', 'Pessoal, tô no aeroporto de Viracopos e a internet não tá dando conta. Não consigo ouvir vocês direito']\n",
            "['00:42:26', 'Érika Yukari:', 'ok, aviso aqui quando chegar seu nome e vc ve se rola']\n",
            "['00:42:46', 'Érika Yukari:', 'acho que vai ser a prox']\n",
            "['00:42:56', 'Amanda Audi:', 'Opa, valeu!']\n",
            "['00:43:10', 'Érika Yukari:', 'vai la']\n",
            "['00:43:14', 'Érika Yukari:', 'rola?']\n",
            "['00:47:58', 'Talita Burbulhan:', 'está travando pra mim, pra vcs está ok?']\n",
            "['00:48:07', 'Tiago:', 'Pra mim tá ok']\n",
            "['00:48:10', 'Kaluan Bernardo:', 'aqui ta 100% msm']\n",
            "['00:48:12', 'Luiza Ferraz:', 'pra mim ta relativamente ok, nada demais']\n",
            "['00:48:23', 'Vinícius Marques:', 'Aqui está travando também']\n",
            "['00:48:27', 'Érika Yukari:', 'tb']\n",
            "['00:48:28', 'gabriela caesar:', 'aqui tb']\n",
            "['00:48:29', 'Ingridy Silva:', 'o som á travando']\n",
            "['00:48:34', 'Jamile Santana:', 'Aqui também']\n",
            "['00:49:08', 'Natalia:', 'Continua travando, pessoal?']\n",
            "['00:49:19', 'Kelly Pavan:', 'Aqui não, Natália.']\n",
            "['00:49:23', 'Ingridy Silva:', 'voltou normal']\n",
            "['00:49:32', 'Vinícius Marques:', 'Voltou ao normal']\n",
            "['00:49:35', 'Natalia:', 'Por aqui to ouvindo normal também']\n",
            "['00:49:36', 'Talita Burbulhan:', 'agora parou de travar :)']\n",
            "['00:49:51', 'Érika Yukari:', 'aqui só rolou 2x']\n",
            "['00:49:58', 'Érika Yukari:', 'um certo atraso']\n",
            "['00:50:01', 'Érika Yukari:', 'coisa de microsegundo']\n",
            "['00:54:05', 'Natalia:', 'https://penseallen.github.io/PensePython2e/']\n",
            "['00:54:35', 'Luiza Ferraz:', 'tá dando 404, mas se abrir a versão da pagina salva da pra abrir ele']\n",
            "['00:57:02', 'Kaluan Bernardo:', 'Alvaro, cortou geral']\n",
            "['00:57:11', 'Bianca Muniz:', 'Álvaro, ficou mudo seu microfone']\n",
            "['00:57:12', 'Ingridy Silva:', 'Álvaro, seu som não está saindo.']\n",
            "['00:57:15', 'Karen Couto:', 'Alvaro vc está mudo']\n",
            "['00:57:21', 'Tode:', 'Pode ser a placa de som dele']\n",
            "['00:57:26', 'Kelly Pavan:', 'Álvaro, se houver programas que precisemos baixar, por exemplo, vamos ser informados com antecedência? Please!']\n",
            "['00:58:00', 'Host Insper:', 'vou reiniciar, só1 min']\n",
            "['01:03:59', 'gabriela caesar:', '@Lara, provavelmente o GitHub vai ser legal em 2022.1 tb, quando formos aprender HTML e CSS, para subir o nosso portfólio/site pessoal de forma gratuita']\n",
            "['01:04:47', 'Natalia:', 'Vamos apresentar o GitHub e falar sobre métodos de documentação na minha disciplina com a Carla também, cenas dos próximos capítulos :)']\n",
            "['01:05:31', 'Reinaldo Chaves:', 'Ela que fez: https://www.gabrielacaesar.com/']\n",
            "['01:05:32', 'gabriela caesar:', 'Verdade, excelente tb!']\n",
            "['01:06:39', 'gabriela caesar:', '@Reinaldo, usei template pronto, nada de HTML e CSS feito por mim hehe Mas isso ta nos planos']\n",
            "['01:09:40', 'Natalia:', 'E estamos planejando uns workshops com o Cuducos sobre isso, pra ajudar vocês nos projetos finais, Gabi']\n",
            "['01:09:53', 'Natalia:', 'Mas também mais pra frente']\n",
            "['01:10:02', 'gabriela caesar:', 'obrigada, tenho muito interesse']\n",
            "['01:10:29', 'Érika Yukari:', 'muito massa, Gabriela!']\n",
            "['01:10:43', 'Érika Yukari:', 'valeu por compartilhar, Reinaldo']\n",
            "['01:16:23', 'Karen Couto:', 'daqui a pouco começa a discussão PS4 x XBox']\n",
            "['01:16:30', 'Kelly Pavan:', 'hahahaha']\n",
            "['01:16:58', 'Karen Couto:', 'PS4, evidente, né']\n",
            "['01:17:30', 'Tode:', '#TeamXbox :P']\n",
            "['01:23:23', 'Reinaldo Chaves:', 'É derivada do Monty Python também :)']\n",
            "['01:24:48', 'Kaluan Bernardo:', 'É verdade a história de que o Youtube foi criado em python?']\n",
            "['01:25:05', 'Karen Couto:', '@Reinaldo Chaves jogando pesado... mas acho que boa parte da turma não vai pegar a referência']\n",
            "['01:26:03', 'Kelly Pavan:', 'Python é filosófico, ó!']\n",
            "['01:27:21', 'gabriela caesar:', 'Editor - por exemplo, Sublime; IDE - por exemplo, RStudio']\n",
            "['01:30:40', 'Natalia:', 'Gabi vai dar um duplo x x (R e alemão) rs']\n",
            "['01:34:05', 'Lara Deus:', 'o guido van rossum tem twitter haha https://twitter.com/gvanrossum']\n",
            "['01:34:16', 'Érika Yukari:', 'kkk']\n",
            "['01:40:04', 'gabriela caesar:', '21h17 volta']\n",
            "['01:51:07', 'Reinaldo Chaves:', 'Gabi comendo feijoada!']\n",
            "['02:09:55', 'Bernardo Vianna:', 'Isso, fiquei observando de fora heheh']\n",
            "['02:13:12', 'gabriela caesar:', '@Tiago, como é o nome dessa ferramenta?']\n",
            "['02:13:15', 'Tode:', 'É fantástico. Eu também queria muito isso, xará.']\n",
            "['02:13:26', 'Tode:', 'Nuzzel']\n",
            "['02:13:32', 'Alessandro Feitosa Jr:', 'Feedly quebra um galho']\n",
            "['02:13:32', 'Érika Yukari:', 'https://twitter.com/nuzzel?lang=en']\n",
            "['02:13:50', 'Lara Deus:', 'o feed.ly é bem bom']\n",
            "['02:13:57', 'Kaluan Bernardo:', 'recomendo muito o feedly e inoreader']\n",
            "['02:14:08', 'Érika Yukari:', 'https://feedly.com/i/welcome']\n",
            "['02:14:29', 'Tiago:', 'O Feedly eu lembro que baixei há uns anos e fiquei insatisfeito com o tanto de site que ele nao pegava']\n",
            "['02:15:19', 'Érika Yukari:', 'google reader morreu ne']\n",
            "['02:15:39', 'Alessandro Feitosa Jr:', 'morreu']\n",
            "['02:15:47', 'Érika Yukari:', 'nao']\n",
            "['02:15:49', 'Érika Yukari:', 'haha']\n",
            "['02:15:52', 'gabriela caesar:', 'normal']\n",
            "['02:15:53', 'Kaluan Bernardo:', 'o feedly melhorou bastante, ti!']\n",
            "['02:17:07', 'Kaluan Bernardo:', 'O 7c0 faz isso']\n",
            "['02:17:20', 'Carina Dourado:', 'Cobrar assessoria é o melhor']\n",
            "['02:17:45', 'Reinaldo Chaves:', 'https://projeto7c0.com.br/']\n",
            "['02:20:14', 'gabriela caesar:', 'https://g1.globo.com/politica/eleicoes/2020/noticia/2020/11/12/em-iniciativa-inedita-g1-publica-textos-com-resultado-da-eleicao-em-cada-uma-das-5568-cidades-do-brasil-com-auxilio-de-inteligencia-artificial.ghtml']\n",
            "['02:21:28', 'Lara Deus:', 'eu amo ele']\n",
            "['02:21:31', 'Lara Deus:', 'salva minha vida']\n",
            "['02:21:44', 'Lara Deus:', 'transcreve direitinho, com pontuação e tudo']\n",
            "['02:21:49', 'Lara Deus:', 'dá medooo até']\n",
            "['02:21:56', 'Tiago:', 'Seria bom algum app que já gravasse e transcrevesse ligação, sem vc precisar baixar o mp3']\n",
            "['02:22:06', 'Luiza Ferraz:', 'nossa total']\n",
            "['02:22:06', 'Alessandro Feitosa Jr:', 'eu quero aprender a fazer isso heheh']\n",
            "['02:22:08', 'gabriela caesar:', 'https://t.me/transcriber_bot']\n",
            "['02:22:11', 'Alessandro Feitosa Jr:', 'pra fazer localmente']\n",
            "['02:22:12', 'gabriela caesar:', '(ta no slack tb)']\n",
            "['02:22:34', 'Kaluan Bernardo:', 'Tem o Google pinpoint do google pra transcrição tb']\n",
            "['02:22:40', 'Reinaldo Chaves:', '@Transcriber_Bot']\n",
            "['02:22:48', 'Alessandro Feitosa Jr:', 'o Office 365 tbm tem uma função similar']\n",
            "['02:23:06', 'Reinaldo Chaves:', 'https://journaliststudio.google.com/pinpoint/about']\n",
            "['02:23:11', 'gabriela caesar:', '@Reinaldo, esse aí é meu melhor amigo no trabalho']\n",
            "['02:23:27', 'isabelafleischmann:', 'O próprio Google Docs tem também o Voice tools, mas o Transcriber bot do Telegram funciona melhor']\n",
            "['02:24:04', 'Tiago:', 'Vcs sabem o quanto o bot do telegrama garante privacidade na transcrição? Isso é uma coisa que me deixa receoso com esses apps']\n",
            "['02:24:10', 'Tiago:', 'telegram**']\n",
            "['02:24:20', 'Carina Dourado:', 'é…. O do Google depende bastante da velocidade e dicção da pessoa. Tem hora que saiu tudo errado']\n",
            "['02:24:35', 'Luiza Ferraz:', 'ja tentei colocar um audio pra tocar e o do google não reconheceu']\n",
            "['02:24:38', 'Luiza Ferraz:', 'nadinha']\n",
            "['02:24:42', 'Bianca Muniz:', 'atualizam diariamente']\n",
            "['02:24:43', 'gabriela caesar:', 'Honestamente, não sei, mas é código aberto, então se tivesse alguma sacanagem alguém - tipo Turicas - iria perceber']\n",
            "['02:25:39', 'Tiago:', 'Eu penso mais nos termos de uso que a gente assina sem ler pra usar o telegram']\n",
            "['02:25:48', 'Tiago:', 'Nao quero vazajato das minhas fonte rs']\n",
            "['02:25:55', 'Carina Dourado:', 'ahahaha']\n",
            "['02:27:55', 'gabriela caesar:', 'SSP https://www.gabrielacaesar.com/2020/09/08/captura-de-dados-ssp-sp/']\n",
            "['02:28:11', 'Reinaldo Chaves:', 'VazaJato foi por causa da falta de autentificação dupla e porque os caras receberam ligação suspeita e aceitaram, não por falha do Telegram']\n",
            "['02:28:40', 'Jamile Santana:', 'Nossa Gabi, eu te amo hahahah Agora só falta eu aprender a rodar isso']\n",
            "['02:28:41', 'Natalia:', 'Tenho esses dados, dps posso passae']\n",
            "['02:28:45', 'Natalia:', 'passar*']\n",
            "['02:32:12', 'Érika Yukari:', 'isso eh mto chatooooooooo']\n",
            "['02:32:24', 'Alessandro Feitosa Jr:', 'tem o https://squoosh.app/ é muito bom. se desse pra passar as imagens nesse algoritmo antes de subir a img seria ótimo']\n",
            "['02:33:18', 'Luiza Ferraz:', 'esse site é pra comprimir imagem, alessandro?']\n",
            "['02:33:33', 'Alessandro Feitosa Jr:', 'isso']\n",
            "['02:33:49', 'Luiza Ferraz:', 'nossa que show, sempre tenho q dar um google ou usar o paint']\n",
            "['02:33:50', 'Alessandro Feitosa Jr:', 'e comprime muito bem, mantendo uma qualidade razoável']\n",
            "['02:34:07', 'Luiza Ferraz:', 'super obrigada']\n",
            "['02:34:18', 'Alessandro Feitosa Jr:', 'dá até pra redimensionar, fazer um crop muito basicao']\n",
            "['02:34:28', 'Luiza Ferraz:', 'show de bola']\n",
            "['02:34:35', 'Renan França:', 'gostei, alessandro. valeu']\n",
            "['02:34:48', 'Reinaldo Chaves:', 'https://dadosabertos.camara.leg.br/swagger/api.html']\n",
            "['02:35:15', 'Reinaldo Chaves:', 'https://legis.senado.leg.br/dadosabertos/docs/ui/index.html']\n",
            "['02:37:34', 'Reinaldo Chaves:', 'https://github.com/revistaazmina/elasnocongressobot/blob/master/elasnocongresso.py']\n",
            "['02:38:42', 'Reinaldo Chaves:', 'Elas buscam essas palavras nas proposições']\n",
            "['search_list = [\"MULHER\", \"MULHERES\", \"TRABALHO DOMÉSTICO\", \"VIOLÊNCIA CONTRA A MULHER\", \"VIOLÊNCIA DOMÉSTICA\", \"VIOLÊNCIA DE GÊNERO\", \"MARIA DA PENHA\", \"ABORTO\", \"ABORTAMENTO\", \"INTERRUPÇÃO DE GRAVIDEZ\", \"INTERRUPÇÃO DE GESTAÇÃO\", \"DIREITO REPRODUTIVO\", \"DIREITOS REPRODUTIVOS\", \"DIREITO À VIDA\", \"CONCEPÇÃO\", \"CONTRACEPÇÃO\", \"CONTRACEPTIVO\", ... e várias outras']\n",
            "['02:40:30', 'Érika Yukari:', 'ah, entendi. perfeito. obrigada!']\n",
            "['02:48:41', 'Host Insper:', 'https://colab.research.google.com/']\n",
            "['02:51:15', 'gabriela caesar:', 'o Colab pode ser legal para pessoas que trabalham presencialmente na empresa e têm limitações para mexer no Terminal tb, por exemplo']\n",
            "['02:51:54', 'Reinaldo Chaves:', 'Tem empresa que nem deixa instalar Python, R']\n",
            "['02:52:07', 'Alessandro Feitosa Jr:', 'é uma boa manter a extensão .ipynb, né?']\n",
            "['02:52:45', 'Reinaldo Chaves:', 'É a extensão padrão de um notebook no Colab']\n",
            "['02:52:59', 'Reinaldo Chaves:', 'Mas é o código Python normal']\n",
            "['02:55:49', 'Alessandro Feitosa Jr:', 'ficou sem som']\n",
            "['02:56:29', 'Bianca Muniz:', 'Álvaro, a gente não tá escutando']\n",
            "['02:56:48', 'Karen Couto:', 'Alvaro não está mais entre nós']\n",
            "['02:56:52', 'Érika Yukari:', 'motim do x']\n",
            "['02:58:54', 'Alessandro Feitosa Jr:', 'o X é tipo levantar a mão']\n",
            "['02:58:56', 'Alessandro Feitosa Jr:', 'tem que tirar']\n",
            "['03:04:44', 'isabelafleischmann:', 'Tem algum atalho para o play ou tem que clicar com o mouse mesmo?']\n",
            "['03:04:52', 'Alessandro Feitosa Jr:', 'shift + enter']\n",
            "['03:04:52', 'Natalia:', 'Ctrl entetr']\n",
            "['03:05:02', 'isabelafleischmann:', 'Obrigada']\n",
            "['03:05:33', 'Reinaldo Chaves:', 'Acho que só abriga Python o Colab']\n",
            "['03:05:58', 'Tiago:', 'Obrigado, paula']\n",
            "['03:07:21', 'Érika Yukari:', 'nao entendi a utilidade do notebook para texto']\n",
            "['03:07:48', 'Érika Yukari:', 'se o codigo nao vai ler, seria realmente uma anotacao?']\n",
            "['03:07:58', 'gabriela caesar:', 'sim']\n",
            "['03:08:02', 'Natalia:', 'É só para você documentar o processo, Érika']\n",
            "['03:08:04', 'Érika Yukari:', 'ah ta']\n",
            "['03:08:05', 'Érika Yukari:', 'rs']\n",
            "['03:08:10', 'Érika Yukari:', 'obrigad']\n",
            "['03:08:10', 'Alessandro Feitosa Jr:', 'sim, uma anotação dentro do notebook']\n",
            "['03:08:16', 'Alessandro Feitosa Jr:', 'anotação pro código vem com #']\n",
            "['03:08:25', 'Alessandro Feitosa Jr:', 'pra explicar o que aquela linha faz, por exemplo']\n",
            "['03:08:30', 'Alessandro Feitosa Jr:', 'mas o Álvaro vai mostrar isso']\n",
            "['03:09:15', 'Natalia:', 'A Érika do futuro vai agradecer a Érika de agora se ela anotar o próprio código :)']\n",
            "['03:09:40', 'Érika Yukari:', 'hahahaha, perfeito. ANOTADO']\n",
            "['03:10:28', 'gabriela caesar:', 'hahahaha']\n",
            "['03:17:23', 'Luiza Ferraz:', 'tem uns programas que deixam tudo coloridinho vibes arco iris']\n",
            "['03:17:26', 'Luiza Ferraz:', 'meu toc ama']\n",
            "['03:17:55', 'Kaluan Bernardo:', 'Se n tiver fundo escuro n é hacker']\n",
            "['03:18:11', 'gabriela caesar:', 'meus olhos agradecem fundo escuro']\n",
            "['03:18:19', 'Renan Cavalcante:', 'Já tava procurando como escurecer a página']\n",
            "['03:18:22', 'Alessandro Feitosa Jr:', 'e ainda dá um ar de hacker']\n",
            "['03:18:24', 'Luiza Ferraz:', 'fundo escuro é ruim no inicio mas é um caminho sem volta']\n",
            "['03:18:40', 'Bianca Muniz:', 'Obrigada e boa noite!']\n",
            "['03:18:41', 'Talita Burbulhan:', 'boa noite!']\n"
          ],
          "name": "stdout"
        }
      ]
    },
    {
      "cell_type": "code",
      "metadata": {
        "colab": {
          "base_uri": "https://localhost:8080/"
        },
        "id": "Oq-xxPV3QRx2",
        "outputId": "83a9828d-9c88-4fcf-aa24-9b349d11b07d"
      },
      "source": [
        "arquivo = open(\"GMT20210806-222707_Recording.txt\")\n",
        "for linha in arquivo:\n",
        "  partes = linha.strip().split(\"\\t\") #Lista de strings, contendo: hora, nome e mensagem\n",
        "  if len(partes) == 3:\n",
        "    print(partes[1]) "
      ],
      "execution_count": 25,
      "outputs": [
        {
          "output_type": "stream",
          "text": [
            "Jamile Santana:\n",
            "Talita Burbulhan:\n",
            "Vinícius Marques:\n",
            "Renan Cavalcante:\n",
            "Alessandro Feitosa Jr:\n",
            "Natalia:\n",
            "Luiza Ferraz:\n",
            "Natalia:\n",
            "Kaluan Bernardo:\n",
            "Renan Cavalcante:\n",
            "Carina Dourado:\n",
            "Kelly Pavan:\n",
            "layane.serrano:\n",
            "layane.serrano:\n",
            "Luiza Ferraz:\n",
            "gabriela caesar:\n",
            "Natalia:\n",
            "Érika Yukari:\n",
            "layane.serrano:\n",
            "Érika Yukari:\n",
            "Larissa Sayuri:\n",
            "Jamile Santana:\n",
            "gabriela caesar:\n",
            "gabriela caesar:\n",
            "gabriela caesar:\n",
            "Amanda Audi:\n",
            "Érika Yukari:\n",
            "Érika Yukari:\n",
            "Amanda Audi:\n",
            "Érika Yukari:\n",
            "Érika Yukari:\n",
            "Talita Burbulhan:\n",
            "Tiago:\n",
            "Kaluan Bernardo:\n",
            "Luiza Ferraz:\n",
            "Vinícius Marques:\n",
            "Érika Yukari:\n",
            "gabriela caesar:\n",
            "Ingridy Silva:\n",
            "Jamile Santana:\n",
            "Natalia:\n",
            "Kelly Pavan:\n",
            "Ingridy Silva:\n",
            "Vinícius Marques:\n",
            "Natalia:\n",
            "Talita Burbulhan:\n",
            "Érika Yukari:\n",
            "Érika Yukari:\n",
            "Érika Yukari:\n",
            "Natalia:\n",
            "Luiza Ferraz:\n",
            "Kaluan Bernardo:\n",
            "Bianca Muniz:\n",
            "Ingridy Silva:\n",
            "Karen Couto:\n",
            "Tode:\n",
            "Kelly Pavan:\n",
            "Host Insper:\n",
            "gabriela caesar:\n",
            "Natalia:\n",
            "Reinaldo Chaves:\n",
            "gabriela caesar:\n",
            "gabriela caesar:\n",
            "Natalia:\n",
            "Natalia:\n",
            "gabriela caesar:\n",
            "Érika Yukari:\n",
            "Érika Yukari:\n",
            "Karen Couto:\n",
            "Kelly Pavan:\n",
            "Karen Couto:\n",
            "Tode:\n",
            "Reinaldo Chaves:\n",
            "Kaluan Bernardo:\n",
            "Karen Couto:\n",
            "Kelly Pavan:\n",
            "gabriela caesar:\n",
            "Natalia:\n",
            "Lara Deus:\n",
            "Érika Yukari:\n",
            "gabriela caesar:\n",
            "Reinaldo Chaves:\n",
            "Bernardo Vianna:\n",
            "gabriela caesar:\n",
            "Tode:\n",
            "Tode:\n",
            "Alessandro Feitosa Jr:\n",
            "Érika Yukari:\n",
            "Lara Deus:\n",
            "Kaluan Bernardo:\n",
            "Érika Yukari:\n",
            "Tiago:\n",
            "Érika Yukari:\n",
            "Alessandro Feitosa Jr:\n",
            "Érika Yukari:\n",
            "Érika Yukari:\n",
            "gabriela caesar:\n",
            "Kaluan Bernardo:\n",
            "Kaluan Bernardo:\n",
            "Carina Dourado:\n",
            "Reinaldo Chaves:\n",
            "gabriela caesar:\n",
            "Lara Deus:\n",
            "Lara Deus:\n",
            "Lara Deus:\n",
            "Lara Deus:\n",
            "Tiago:\n",
            "Luiza Ferraz:\n",
            "Alessandro Feitosa Jr:\n",
            "gabriela caesar:\n",
            "Alessandro Feitosa Jr:\n",
            "gabriela caesar:\n",
            "Kaluan Bernardo:\n",
            "Reinaldo Chaves:\n",
            "Alessandro Feitosa Jr:\n",
            "Reinaldo Chaves:\n",
            "gabriela caesar:\n",
            "isabelafleischmann:\n",
            "Tiago:\n",
            "Tiago:\n",
            "Carina Dourado:\n",
            "Luiza Ferraz:\n",
            "Luiza Ferraz:\n",
            "Bianca Muniz:\n",
            "gabriela caesar:\n",
            "Tiago:\n",
            "Tiago:\n",
            "Carina Dourado:\n",
            "gabriela caesar:\n",
            "Reinaldo Chaves:\n",
            "Jamile Santana:\n",
            "Natalia:\n",
            "Natalia:\n",
            "Érika Yukari:\n",
            "Alessandro Feitosa Jr:\n",
            "Luiza Ferraz:\n",
            "Alessandro Feitosa Jr:\n",
            "Luiza Ferraz:\n",
            "Alessandro Feitosa Jr:\n",
            "Luiza Ferraz:\n",
            "Alessandro Feitosa Jr:\n",
            "Luiza Ferraz:\n",
            "Renan França:\n",
            "Reinaldo Chaves:\n",
            "Reinaldo Chaves:\n",
            "Reinaldo Chaves:\n",
            "Reinaldo Chaves:\n",
            "Érika Yukari:\n",
            "Host Insper:\n",
            "gabriela caesar:\n",
            "Reinaldo Chaves:\n",
            "Alessandro Feitosa Jr:\n",
            "Reinaldo Chaves:\n",
            "Reinaldo Chaves:\n",
            "Alessandro Feitosa Jr:\n",
            "Bianca Muniz:\n",
            "Karen Couto:\n",
            "Érika Yukari:\n",
            "Alessandro Feitosa Jr:\n",
            "Alessandro Feitosa Jr:\n",
            "isabelafleischmann:\n",
            "Alessandro Feitosa Jr:\n",
            "Natalia:\n",
            "isabelafleischmann:\n",
            "Reinaldo Chaves:\n",
            "Tiago:\n",
            "Érika Yukari:\n",
            "Érika Yukari:\n",
            "gabriela caesar:\n",
            "Natalia:\n",
            "Érika Yukari:\n",
            "Érika Yukari:\n",
            "Érika Yukari:\n",
            "Alessandro Feitosa Jr:\n",
            "Alessandro Feitosa Jr:\n",
            "Alessandro Feitosa Jr:\n",
            "Alessandro Feitosa Jr:\n",
            "Natalia:\n",
            "Érika Yukari:\n",
            "gabriela caesar:\n",
            "Luiza Ferraz:\n",
            "Luiza Ferraz:\n",
            "Kaluan Bernardo:\n",
            "gabriela caesar:\n",
            "Renan Cavalcante:\n",
            "Alessandro Feitosa Jr:\n",
            "Luiza Ferraz:\n",
            "Bianca Muniz:\n",
            "Talita Burbulhan:\n"
          ],
          "name": "stdout"
        }
      ]
    },
    {
      "cell_type": "code",
      "metadata": {
        "id": "X4Ar_gKYVBb2"
      },
      "source": [
        ""
      ],
      "execution_count": null,
      "outputs": []
    }
  ]
}