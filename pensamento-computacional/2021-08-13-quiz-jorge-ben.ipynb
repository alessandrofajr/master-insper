{
  "nbformat": 4,
  "nbformat_minor": 0,
  "metadata": {
    "colab": {
      "name": "Quiz - Jorge Ben.ipynb",
      "provenance": []
    },
    "kernelspec": {
      "name": "python3",
      "display_name": "Python 3"
    },
    "language_info": {
      "name": "python"
    }
  },
  "cells": [
    {
      "cell_type": "code",
      "metadata": {
        "colab": {
          "base_uri": "https://localhost:8080/"
        },
        "id": "NPUT9iogAsoi",
        "outputId": "fd6cf06a-9444-40ac-e7eb-d2c26d985218"
      },
      "source": [
        "acertos = 0\n",
        " \n",
        "print(\"Bem-vindo(a) ao quiz sobre Jorge Ben! Vamos jogar? \\n\\n\")\n",
        "print(\"Onde Jorge Ben nasceu?\\n a: São Paulo\\n b: Capadócia\\n c: Rio de Janeiro\\n d: Bahia\")\n",
        "resposta_1 = input(\"Escolha uma das alternativas (digite a, b, c ou d): \")\n",
        "if resposta_1.lower() == 'c':\n",
        "  acertos = acertos + 1\n",
        " \n",
        "print(\"\\nComplete a letra: 'Moro num país tropical, abençoado por Deus…'\\n a: E bonito por natureza\\n b: E tranquilo por natureza\\n c: E cheio de natureza\\n d: E querido pela natureza\")\n",
        "resposta_2 = input(\"Escolha uma das alternativas: \")\n",
        "if resposta_2.lower() == 'a':\n",
        "  acertos = acertos + 1\n",
        " \n",
        "print(\"\\nQual foi o primeiro álbum de Jorge Ben?\\n a: Força Bruta\\n b: Samba Esquema Novo\\n c: A Tábua de Esmeralda\\n d: África Brasil\")\n",
        "resposta_3 = input(\"Escolha uma das alternativas: \")\n",
        "if resposta_3.lower() == 'b':\n",
        "  acertos = acertos + 1\n",
        " \n",
        "print(\"\\nQual a música de Jorge Ben leva o nome de uma das sete maravilhas do mundo?\\n a: Machu Picchu\\n b: Coliseu\\n c: Cristo Redentor\\n d: Tah Mahal\")\n",
        "resposta_4 = input(\"Escolha uma das alternativas: \")\n",
        "if resposta_4.lower() == 'd':\n",
        "  acertos = acertos + 1\n",
        " \n",
        "print(\"\\nQual é o time de coração de Jorge Ben?\\n a: Vasco\\n b: Flamengo\\n c: Corinthians\\n d: Fluminense\")\n",
        "resposta_5 = input(\"Escolha uma das alternativas: \")\n",
        "if resposta_5.lower() == 'b':\n",
        "  acertos = acertos + 1\n",
        " \n",
        "print(f\"\\nVocê acertou {acertos}! \")\n",
        " \n",
        "if acertos == 0:\n",
        "  print(\"Parece que você não conhece Jorge Ben! Que tal ouvir o álbum A Tábua de Esmeralda?\")\n",
        "elif acertos <= 2:\n",
        "  print(\"Você já ouviu alguma coisa do Jorge Ben, mas parece não ser muito fã!\")\n",
        "elif acertos <= 4:\n",
        "  print(\"Muito bem, você conhece Jorge Ben!\") \n",
        "else:\n",
        "  print(\"Sabe tudo de Jorge Ben! Parece que você é fã dele.\")\n",
        " \n",
        "print(\"\\nGabarito: 1-c, 2-a, 3-b, 4-d, 5-b\")"
      ],
      "execution_count": null,
      "outputs": [
        {
          "output_type": "stream",
          "text": [
            "Bem-vindo(a) ao quiz sobre Jorge Ben! Vamos jogar? \n",
            "\n",
            "\n",
            "Onde Jorge Ben nasceu?\n",
            " a: São Paulo\n",
            " b: Capadócia\n",
            " c: Rio de Janeiro\n",
            " d: Bahia\n",
            "Escolha uma das alternativas (digite a, b, c ou d): c\n",
            "\n",
            "Complete a letra: 'Moro num país tropical, abençoado por Deus…'\n",
            " a: E bonito por natureza\n",
            " b: E tranquilo por natureza\n",
            " c: E cheio de natureza\n",
            " d: E querido pela natureza\n",
            "Escolha uma das alternativas: a\n",
            "\n",
            "Qual foi o primeiro álbum de Jorge Ben?\n",
            " a: Força Bruta\n",
            " b: Samba Esquema Novo\n",
            " c: A Tábua de Esmeralda\n",
            " d: África Brasil\n",
            "Escolha uma das alternativas: b\n",
            "\n",
            "Qual a música de Jorge Ben leva o nome de uma das sete maravilhas do mundo?\n",
            " a: Machu Picchu\n",
            " b: Coliseu\n",
            " c: Cristo Redentor\n",
            " d: Tah Mahal\n",
            "Escolha uma das alternativas: c\n",
            "\n",
            "Qual é o time de coração de Jorge Ben?\n",
            " a: Vasco\n",
            " b: Flamengo\n",
            " c: Corinthians\n",
            " d: Fluminense\n",
            "Escolha uma das alternativas: b\n",
            "\n",
            "Você acertou 4! \n",
            "Muito bem, você conhece Jorge Ben!\n",
            "\n",
            "Gabarito: 1-c, 2-a, 3-b, 4-d, 5-b\n"
          ],
          "name": "stdout"
        }
      ]
    }
  ]
}