{
  "nbformat": 4,
  "nbformat_minor": 0,
  "metadata": {
    "colab": {
      "name": "Aula 2.ipynb",
      "provenance": []
    },
    "kernelspec": {
      "name": "python3",
      "display_name": "Python 3"
    },
    "language_info": {
      "name": "python"
    }
  },
  "cells": [
    {
      "cell_type": "code",
      "metadata": {
        "colab": {
          "base_uri": "https://localhost:8080/"
        },
        "id": "ooFCxqRUu88x",
        "outputId": "82283d07-b182-449f-ecfe-ce063f777759"
      },
      "source": [
        "print(\"Censo 2021: faça você mesmo!\")\n",
        "nome = input(\"Qual seu nome? \")\n",
        "ano_nascimento = input(\"Em que ano você nasceu? \")\n",
        "ano_nascimento_numerico = int(ano_nascimento)\n",
        "possivel_idade = 2021 - ano_nascimento_numerico\n",
        "print(f\"Você deve ter {possivel_idade} anos.\")"
      ],
      "execution_count": null,
      "outputs": [
        {
          "output_type": "stream",
          "text": [
            "Censo 2021: faça você mesmo!\n",
            "Qual seu nome? Alessandro\n",
            "Em que ano você nasceu? 1997\n",
            "Você deve ter 24 anos.\n"
          ],
          "name": "stdout"
        }
      ]
    },
    {
      "cell_type": "code",
      "metadata": {
        "colab": {
          "base_uri": "https://localhost:8080/"
        },
        "id": "infG2QXIyIPc",
        "outputId": "fdbb824d-d02c-4c46-a4e4-699aff9a1646"
      },
      "source": [
        ""
      ],
      "execution_count": null,
      "outputs": [
        {
          "output_type": "stream",
          "text": [
            "Sua idade deve ser: 24\n"
          ],
          "name": "stdout"
        }
      ]
    },
    {
      "cell_type": "code",
      "metadata": {
        "colab": {
          "base_uri": "https://localhost:8080/"
        },
        "id": "sg1C8qfawkjI",
        "outputId": "8e0781fc-ff10-4999-c628-7dfd68526730"
      },
      "source": [
        "numero_1 = input(\"Digite um número de 0 a 10: \")\n",
        "numero_2 = input(\"Digite outro número de 0 a 10: \")\n",
        "num_1 = int(numero_1)\n",
        "num_2 = int(numero_2)\n",
        "calculo = (num_1+num_2)/2\n",
        "print(f\"A média é: {calculo}\")"
      ],
      "execution_count": null,
      "outputs": [
        {
          "output_type": "stream",
          "text": [
            "Digite um número de 0 a 10: 5\n",
            "Digite outro número de 0 a 10: 7\n",
            "A média é: 6.0\n"
          ],
          "name": "stdout"
        }
      ]
    },
    {
      "cell_type": "code",
      "metadata": {
        "colab": {
          "base_uri": "https://localhost:8080/"
        },
        "id": "bdtP1_KlDiX9",
        "outputId": "9c379002-c70d-4d39-e4df-ff00f1a6a652"
      },
      "source": [
        "numero_1 = float(input(\"Escolha um número: \"))\n",
        "numero_2 = float(input(\"Escolha outro número: \"))\n",
        "calculo = (numero_1+numero_2)/2\n",
        "print(f\"A média é: {calculo}\")"
      ],
      "execution_count": null,
      "outputs": [
        {
          "output_type": "stream",
          "text": [
            "Escolha um número: 15.9\n",
            "Escolha outro número: 10\n",
            "A média é: 12.95\n"
          ],
          "name": "stdout"
        }
      ]
    },
    {
      "cell_type": "code",
      "metadata": {
        "colab": {
          "base_uri": "https://localhost:8080/"
        },
        "id": "FPqwe5KXMXwO",
        "outputId": "4ffa0002-a584-4758-84fc-ac5e2f011a04"
      },
      "source": [
        "numero_1 = float(input(\"Escolha um número de 0 a 10: \"))\n",
        "numero_2 = float(input(\"Escolha outro número de 0 a 10: \"))\n",
        "\n",
        "if numero_1 > 10:\n",
        "  numero_1 = float(input(\"Opa, parece que você escolheu um número maior que 10. Por favor, escolha um número de 0 a 10: \"))\n",
        "if numero_2 > 10:\n",
        "  numero_2 = float(input(\"Opa, parece que você escolheu um número maior que 10. Por favor, escolha um número de 0 a 10: \"))\n",
        "\n",
        "calculo = (numero_1+numero_2)/2\n",
        "print(f\"A média é: {calculo}\")"
      ],
      "execution_count": null,
      "outputs": [
        {
          "output_type": "stream",
          "text": [
            "Escolha um número de 0 a 10: 15\n",
            "Escolha outro número de 0 a 10: 5\n",
            "Opa, parece que você escolheu um número maior que 10. Por favor, escolha um número de 0 a 10: 10\n",
            "A média é: 7.5\n"
          ],
          "name": "stdout"
        }
      ]
    },
    {
      "cell_type": "code",
      "metadata": {
        "colab": {
          "base_uri": "https://localhost:8080/"
        },
        "id": "JyUq2G2DNMfR",
        "outputId": "485ead34-865f-4351-d458-e3c6eed89028"
      },
      "source": [
        "media = (int(input(\"Escolha um número de 0 a 10: \")) + int(input(\"Escolha outro número de 0 a 10: \")))/2\n",
        "print(f\"A média é: {media}\")\n",
        "\n",
        "if media < 6 and media > 5:\n",
        "  print(\"Caramba, foi quase!\")\n",
        "if media < 0 or media > 10:\n",
        "  print(\"Opa, tem algo errado aí!\")"
      ],
      "execution_count": null,
      "outputs": [
        {
          "output_type": "stream",
          "text": [
            "Escolha um número de 0 a 10: 5\n",
            "Escolha outro número de 0 a 10: 6\n",
            "A média é: 5.5\n",
            "Caramba, foi quase!\n"
          ],
          "name": "stdout"
        }
      ]
    },
    {
      "cell_type": "code",
      "metadata": {
        "colab": {
          "base_uri": "https://localhost:8080/"
        },
        "id": "202fWNuQNj23",
        "outputId": "8cdf24ea-c4cc-4678-b3ed-d5a5e3df0f3f"
      },
      "source": [
        "num_1 = input(\"Escolha um número de 0 a 10: \")\n",
        "num_2 = input(\"Escolha outro número de 0 a 10: \")\n",
        "media = (int(num_1)+int(num_2))/2\n",
        "print(f\"A média é: {media}\")\n",
        "\n",
        "if media < 5:\n",
        "  print(\"Estude mais!\")\n",
        "elif media < 6:\n",
        "  print(\"Carambra, foi quase!\")\n",
        "elif media == 6:\n",
        "  print(\"Ufa, raspando!\")\n",
        "elif media < 8:\n",
        "  print(\"Passou!\")\n",
        "else: \n",
        "  print(\"Arrebentou!\")"
      ],
      "execution_count": null,
      "outputs": [
        {
          "output_type": "stream",
          "text": [
            "Escolha um número de 0 a 10: 5\n",
            "Escolha outro número de 0 a 10: 7\n",
            "A média é: 6.0\n",
            "Ufa, raspando!\n"
          ],
          "name": "stdout"
        }
      ]
    },
    {
      "cell_type": "code",
      "metadata": {
        "id": "2Z3r404uOm0K"
      },
      "source": [
        ""
      ],
      "execution_count": null,
      "outputs": []
    }
  ]
}
